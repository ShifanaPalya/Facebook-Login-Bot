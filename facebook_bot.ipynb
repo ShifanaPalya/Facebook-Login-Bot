{
 "cells": [
  {
   "cell_type": "code",
   "execution_count": 14,
   "metadata": {},
   "outputs": [],
   "source": [
    "from selenium import webdriver\n",
    "import time"
   ]
  },
  {
   "cell_type": "code",
   "execution_count": 20,
   "metadata": {},
   "outputs": [],
   "source": [
    "class FacebookBot:\n",
    "    def __init__(self, username, pw):\n",
    "        self.driver = webdriver.Chrome(executable_path ='D:/chromedriver.exe')\n",
    "        self.driver.get(\"https://www.facebook.com\")\n",
    "        time.sleep(2)\n",
    "        uname = self.driver.find_element_by_xpath('//*[@id=\"email\"]')\n",
    "        uname.send_keys(username)\n",
    "        pwd = self.driver.find_element_by_xpath('//*[@id=\"pass\"]')\n",
    "        pwd.send_keys(pw)\n",
    "        login_button = self.driver.find_element_by_xpath('//*[@id=\"loginbutton\"]')\n",
    "        login_button.click()\n",
    "        time.sleep(4)"
   ]
  },
  {
   "cell_type": "code",
   "execution_count": 24,
   "metadata": {},
   "outputs": [
    {
     "data": {
      "text/plain": [
       "<__main__.FacebookBot at 0xd21e68b048>"
      ]
     },
     "execution_count": 24,
     "metadata": {},
     "output_type": "execute_result"
    }
   ],
   "source": [
    "FacebookBot('testinstafacebook@gmail.com', 'password')"
   ]
  },
  {
   "cell_type": "code",
   "execution_count": null,
   "metadata": {},
   "outputs": [],
   "source": []
  }
 ],
 "metadata": {
  "kernelspec": {
   "display_name": "Python 3",
   "language": "python",
   "name": "python3"
  },
  "language_info": {
   "codemirror_mode": {
    "name": "ipython",
    "version": 3
   },
   "file_extension": ".py",
   "mimetype": "text/x-python",
   "name": "python",
   "nbconvert_exporter": "python",
   "pygments_lexer": "ipython3",
   "version": "3.7.3"
  }
 },
 "nbformat": 4,
 "nbformat_minor": 4
}
